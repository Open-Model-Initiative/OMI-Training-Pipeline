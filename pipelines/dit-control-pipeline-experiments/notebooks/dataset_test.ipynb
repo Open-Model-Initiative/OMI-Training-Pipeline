{
 "cells": [
  {
   "cell_type": "code",
   "execution_count": null,
   "metadata": {},
   "outputs": [
    {
     "name": "stderr",
     "output_type": "stream",
     "text": [
      "c:\\Users\\wolfg\\OneDrive\\Documents\\Projects\\OMI-Training-Pipeline\\.venv\\Lib\\site-packages\\tqdm\\auto.py:21: TqdmWarning: IProgress not found. Please update jupyter and ipywidgets. See https://ipywidgets.readthedocs.io/en/stable/user_install.html\n",
      "  from .autonotebook import tqdm as notebook_tqdm\n"
     ]
    }
   ],
   "source": [
    "import json\n",
    "import torch\n",
    "import numpy as np\n",
    "from datasets import load_dataset\n",
    "from torchvision import transforms\n",
    "from torch.utils.data import DataLoader\n",
    "from torchvision.transforms.functional import InterpolationMode\n",
    "\n",
    "import sys\n",
    "from pathlib import Path\n",
    "\n",
    "notebook_path = Path().resolve()\n",
    "project_root = notebook_path.parent\n",
    "sys.path.append(str(project_root))\n",
    "\n",
    "from utils import ImagePromptDataset"
   ]
  },
  {
   "cell_type": "markdown",
   "metadata": {},
   "source": [
    "## Test DataLoader and Image Class"
   ]
  },
  {
   "cell_type": "code",
   "execution_count": 2,
   "metadata": {},
   "outputs": [],
   "source": [
    "# dataset = load_dataset(\"openmodelinitiative/initial-test-dataset\")\n",
    "# dataset = load_dataset(\"laion/laion2B-en\")\n",
    "# data_id = \"idning/ffhq64-caption\"\n",
    "# data_id = \"idning/ffhq128-caption\"\n",
    "data_id= \"pcuenq/lsun-bedrooms\"\n",
    "\n",
    "ds = load_dataset(data_id)\n",
    "\n",
    "#to run on runpod I had to comment out lines 188/189 in usr/lib/local/pyhton/datasets/features/Image.py \n",
    "\n",
    "# ds = load_dataset(\"pcuenq/lsun-bedrooms\")\n",
    "split_ds = ds['train'].train_test_split(test_size=0.1, seed=42)\n"
   ]
  },
  {
   "cell_type": "code",
   "execution_count": 3,
   "metadata": {},
   "outputs": [],
   "source": [
    "transform = transforms.Compose([\n",
    "    transforms.Resize((64, 64), interpolation=InterpolationMode.LANCZOS),\n",
    "    transforms.ToTensor(),  # Converts to tensor and scales pixel values to [0, 1]\n",
    "])"
   ]
  },
  {
   "cell_type": "code",
   "execution_count": 4,
   "metadata": {},
   "outputs": [
    {
     "name": "stderr",
     "output_type": "stream",
     "text": [
      "Using cache found in C:\\Users\\wolfg/.cache\\torch\\hub\\intel-isl_MiDaS_master\n",
      "c:\\Users\\wolfg\\OneDrive\\Documents\\Projects\\OMI-Training-Pipeline\\.venv\\Lib\\site-packages\\timm\\models\\layers\\__init__.py:48: FutureWarning: Importing from timm.models.layers is deprecated, please import via timm.layers\n",
      "  warnings.warn(f\"Importing from {__name__} is deprecated, please import via timm.layers\", FutureWarning)\n",
      "Using cache found in C:\\Users\\wolfg/.cache\\torch\\hub\\intel-isl_MiDaS_master\n",
      "Using cache found in C:\\Users\\wolfg/.cache\\torch\\hub\\intel-isl_MiDaS_master\n",
      "Using cache found in C:\\Users\\wolfg/.cache\\torch\\hub\\intel-isl_MiDaS_master\n"
     ]
    }
   ],
   "source": [
    "# Create the custom dataset\n",
    "train_dataset = ImagePromptDataset(split_ds[\"train\"], transform=transform, device = torch.device('cuda'), maps = ['depth','edge'])\n",
    "val_dataset = ImagePromptDataset(split_ds[\"test\"], transform=transform , device = torch.device('cuda'), maps = ['depth', 'edge'])   \n"
   ]
  },
  {
   "cell_type": "code",
   "execution_count": 5,
   "metadata": {},
   "outputs": [
    {
     "name": "stderr",
     "output_type": "stream",
     "text": [
      "c:\\Users\\wolfg\\OneDrive\\Documents\\Projects\\OMI-Training-Pipeline\\.venv\\Lib\\site-packages\\timm\\models\\vision_transformer.py:93: UserWarning: 1Torch was not compiled with flash attention. (Triggered internally at C:\\actions-runner\\_work\\pytorch\\pytorch\\builder\\windows\\pytorch\\aten\\src\\ATen\\native\\transformers\\cuda\\sdp_utils.cpp:555.)\n",
      "  x = F.scaled_dot_product_attention(\n"
     ]
    }
   ],
   "source": [
    "sample = train_dataset[0]"
   ]
  },
  {
   "cell_type": "code",
   "execution_count": 6,
   "metadata": {},
   "outputs": [
    {
     "data": {
      "text/plain": [
       "torch.Size([3, 64, 64])"
      ]
     },
     "execution_count": 6,
     "metadata": {},
     "output_type": "execute_result"
    }
   ],
   "source": [
    "sample[0].shape"
   ]
  },
  {
   "cell_type": "code",
   "execution_count": 7,
   "metadata": {},
   "outputs": [
    {
     "name": "stdout",
     "output_type": "stream",
     "text": [
      "torch.Size([2, 64, 64])\n"
     ]
    }
   ],
   "source": [
    "print(sample[-1].shape)"
   ]
  },
  {
   "cell_type": "code",
   "execution_count": 8,
   "metadata": {},
   "outputs": [
    {
     "data": {
      "image/jpeg": "[encoded data removed]",
      "image/png": "[encoded data removed]",
      "text/plain": [
       "<PIL.Image.Image image mode=RGB size=64x64>"
      ]
     },
     "execution_count": 8,
     "metadata": {},
     "output_type": "execute_result"
    }
   ],
   "source": [
    "transforms.ToPILImage()(sample[0])"
   ]
  },
  {
   "cell_type": "code",
   "execution_count": 33,
   "metadata": {},
   "outputs": [],
   "source": [
    "# Training DataLoader\n",
    "train_dataloader = DataLoader(\n",
    "    train_dataset,\n",
    "    batch_size=2,  # Adjust based on your GPU memory\n",
    "    shuffle=True,\n",
    "    num_workers=0  # Set to 0 if you encounter issues on Windows\n",
    ")\n",
    "\n",
    "# Validation DataLoader\n",
    "val_dataloader = DataLoader(\n",
    "    val_dataset,\n",
    "    batch_size=4,\n",
    "    shuffle=False,\n",
    "    num_workers=0\n",
    ")"
   ]
  },
  {
   "cell_type": "code",
   "execution_count": 34,
   "metadata": {},
   "outputs": [
    {
     "data": {
      "text/plain": [
       "[tensor([[[[0.0863, 0.0941, 0.0941,  ..., 0.9647, 0.3804, 0.1333],\n",
       "           [0.0941, 0.0941, 0.0941,  ..., 0.9608, 0.3529, 0.1451],\n",
       "           [0.0980, 0.0902, 0.0902,  ..., 0.9176, 0.3098, 0.1490],\n",
       "           ...,\n",
       "           [0.2784, 0.2863, 0.2941,  ..., 0.0627, 0.0627, 0.0667],\n",
       "           [0.2784, 0.2863, 0.2941,  ..., 0.0627, 0.0588, 0.0667],\n",
       "           [0.2902, 0.2980, 0.3020,  ..., 0.0588, 0.0588, 0.0667]],\n",
       " \n",
       "          [[0.0667, 0.0745, 0.0784,  ..., 0.9647, 0.3647, 0.1294],\n",
       "           [0.0745, 0.0745, 0.0784,  ..., 0.9569, 0.3412, 0.1412],\n",
       "           [0.0784, 0.0706, 0.0784,  ..., 0.9137, 0.3020, 0.1412],\n",
       "           ...,\n",
       "           [0.1412, 0.1490, 0.1569,  ..., 0.0627, 0.0588, 0.0627],\n",
       "           [0.1412, 0.1490, 0.1608,  ..., 0.0627, 0.0549, 0.0627],\n",
       "           [0.1529, 0.1608, 0.1647,  ..., 0.0588, 0.0549, 0.0627]],\n",
       " \n",
       "          [[0.0510, 0.0588, 0.0627,  ..., 0.9490, 0.3647, 0.1098],\n",
       "           [0.0588, 0.0588, 0.0627,  ..., 0.9608, 0.3176, 0.1176],\n",
       "           [0.0627, 0.0549, 0.0588,  ..., 0.9176, 0.2784, 0.1176],\n",
       "           ...,\n",
       "           [0.0314, 0.0392, 0.0431,  ..., 0.0549, 0.0510, 0.0549],\n",
       "           [0.0314, 0.0392, 0.0431,  ..., 0.0549, 0.0471, 0.0549],\n",
       "           [0.0431, 0.0510, 0.0471,  ..., 0.0549, 0.0471, 0.0549]]],\n",
       " \n",
       " \n",
       "         [[[0.4196, 0.4784, 0.5020,  ..., 0.4000, 0.3882, 0.3647],\n",
       "           [0.3686, 0.4235, 0.4706,  ..., 0.4078, 0.3961, 0.3686],\n",
       "           [0.3647, 0.3882, 0.4196,  ..., 0.4196, 0.4039, 0.3804],\n",
       "           ...,\n",
       "           [0.2784, 0.3137, 0.3608,  ..., 0.1490, 0.2314, 0.2588],\n",
       "           [0.2667, 0.2784, 0.3176,  ..., 0.1843, 0.2235, 0.2588],\n",
       "           [0.2353, 0.2627, 0.3059,  ..., 0.1961, 0.2275, 0.2471]],\n",
       " \n",
       "          [[0.3882, 0.4471, 0.4667,  ..., 0.3608, 0.3490, 0.3294],\n",
       "           [0.3333, 0.3882, 0.4353,  ..., 0.3686, 0.3529, 0.3373],\n",
       "           [0.3176, 0.3412, 0.3725,  ..., 0.3804, 0.3647, 0.3451],\n",
       "           ...,\n",
       "           [0.2118, 0.2510, 0.2980,  ..., 0.0980, 0.1765, 0.2039],\n",
       "           [0.2078, 0.2196, 0.2588,  ..., 0.1294, 0.1725, 0.2000],\n",
       "           [0.1843, 0.2157, 0.2588,  ..., 0.1451, 0.1765, 0.1922]],\n",
       " \n",
       "          [[0.3725, 0.4353, 0.4549,  ..., 0.3529, 0.3412, 0.3216],\n",
       "           [0.3137, 0.3686, 0.4157,  ..., 0.3608, 0.3490, 0.3255],\n",
       "           [0.2941, 0.3176, 0.3490,  ..., 0.3725, 0.3569, 0.3373],\n",
       "           ...,\n",
       "           [0.1922, 0.2314, 0.2863,  ..., 0.0510, 0.1725, 0.1922],\n",
       "           [0.1961, 0.2078, 0.2549,  ..., 0.0863, 0.1686, 0.1882],\n",
       "           [0.1804, 0.2078, 0.2510,  ..., 0.0980, 0.1725, 0.1804]]]],\n",
       "        device='cuda:0'),\n",
       " ('', ''),\n",
       " tensor([[[[0.2745, 0.2667, 0.2627,  ..., 0.4196, 0.7216, 0.7843],\n",
       "           [0.2745, 0.2667, 0.2627,  ..., 0.4275, 0.7216, 0.7765],\n",
       "           [0.2745, 0.2667, 0.2627,  ..., 0.4392, 0.7255, 0.7686],\n",
       "           ...,\n",
       "           [0.3725, 0.3725, 0.3725,  ..., 0.7490, 0.7569, 0.7608],\n",
       "           [0.3843, 0.3843, 0.3882,  ..., 0.7490, 0.7569, 0.7608],\n",
       "           [0.3961, 0.3961, 0.4000,  ..., 0.7490, 0.7608, 0.7608]],\n",
       " \n",
       "          [[0.0000, 0.0000, 0.0000,  ..., 0.0667, 0.1020, 0.0000],\n",
       "           [0.0000, 0.0000, 0.0000,  ..., 0.0667, 0.1020, 0.0000],\n",
       "           [0.0000, 0.0000, 0.0000,  ..., 0.0941, 0.0784, 0.0000],\n",
       "           ...,\n",
       "           [0.0000, 0.0000, 0.0000,  ..., 0.0000, 0.0039, 0.0000],\n",
       "           [0.0000, 0.0000, 0.0000,  ..., 0.0000, 0.0039, 0.0000],\n",
       "           [0.0000, 0.0000, 0.0000,  ..., 0.0000, 0.0000, 0.0000]]],\n",
       " \n",
       " \n",
       "         [[[0.3020, 0.2980, 0.2980,  ..., 0.4863, 0.4941, 0.5020],\n",
       "           [0.3020, 0.2980, 0.2941,  ..., 0.4824, 0.4902, 0.5020],\n",
       "           [0.2980, 0.2941, 0.2902,  ..., 0.4824, 0.4902, 0.4980],\n",
       "           ...,\n",
       "           [0.5137, 0.5137, 0.5176,  ..., 0.5882, 0.5961, 0.6000],\n",
       "           [0.5333, 0.5333, 0.5373,  ..., 0.5961, 0.6039, 0.6039],\n",
       "           [0.5490, 0.5529, 0.5529,  ..., 0.6039, 0.6078, 0.6118]],\n",
       " \n",
       "          [[0.0000, 0.0000, 0.0000,  ..., 0.0000, 0.0000, 0.0000],\n",
       "           [0.0000, 0.0000, 0.0000,  ..., 0.0000, 0.0000, 0.0000],\n",
       "           [0.0000, 0.0000, 0.0000,  ..., 0.0000, 0.0000, 0.0000],\n",
       "           ...,\n",
       "           [0.0000, 0.0000, 0.0000,  ..., 0.0000, 0.0000, 0.0000],\n",
       "           [0.0000, 0.0000, 0.0000,  ..., 0.0000, 0.0000, 0.0000],\n",
       "           [0.0000, 0.0000, 0.0000,  ..., 0.0000, 0.0000, 0.0000]]]],\n",
       "        device='cuda:0')]"
      ]
     },
     "execution_count": 34,
     "metadata": {},
     "output_type": "execute_result"
    }
   ],
   "source": [
    "next(iter(train_dataloader))"
   ]
  },
  {
   "cell_type": "code",
   "execution_count": 35,
   "metadata": {},
   "outputs": [],
   "source": [
    "from transformers import AutoTokenizer, T5EncoderModel"
   ]
  },
  {
   "cell_type": "code",
   "execution_count": 36,
   "metadata": {},
   "outputs": [
    {
     "data": {
      "text/plain": [
       "T5EncoderModel(\n",
       "  (shared): Embedding(32128, 768)\n",
       "  (encoder): T5Stack(\n",
       "    (embed_tokens): Embedding(32128, 768)\n",
       "    (block): ModuleList(\n",
       "      (0): T5Block(\n",
       "        (layer): ModuleList(\n",
       "          (0): T5LayerSelfAttention(\n",
       "            (SelfAttention): T5Attention(\n",
       "              (q): Linear(in_features=768, out_features=768, bias=False)\n",
       "              (k): Linear(in_features=768, out_features=768, bias=False)\n",
       "              (v): Linear(in_features=768, out_features=768, bias=False)\n",
       "              (o): Linear(in_features=768, out_features=768, bias=False)\n",
       "              (relative_attention_bias): Embedding(32, 12)\n",
       "            )\n",
       "            (layer_norm): T5LayerNorm()\n",
       "            (dropout): Dropout(p=0.1, inplace=False)\n",
       "          )\n",
       "          (1): T5LayerFF(\n",
       "            (DenseReluDense): T5DenseActDense(\n",
       "              (wi): Linear(in_features=768, out_features=3072, bias=False)\n",
       "              (wo): Linear(in_features=3072, out_features=768, bias=False)\n",
       "              (dropout): Dropout(p=0.1, inplace=False)\n",
       "              (act): ReLU()\n",
       "            )\n",
       "            (layer_norm): T5LayerNorm()\n",
       "            (dropout): Dropout(p=0.1, inplace=False)\n",
       "          )\n",
       "        )\n",
       "      )\n",
       "      (1-11): 11 x T5Block(\n",
       "        (layer): ModuleList(\n",
       "          (0): T5LayerSelfAttention(\n",
       "            (SelfAttention): T5Attention(\n",
       "              (q): Linear(in_features=768, out_features=768, bias=False)\n",
       "              (k): Linear(in_features=768, out_features=768, bias=False)\n",
       "              (v): Linear(in_features=768, out_features=768, bias=False)\n",
       "              (o): Linear(in_features=768, out_features=768, bias=False)\n",
       "            )\n",
       "            (layer_norm): T5LayerNorm()\n",
       "            (dropout): Dropout(p=0.1, inplace=False)\n",
       "          )\n",
       "          (1): T5LayerFF(\n",
       "            (DenseReluDense): T5DenseActDense(\n",
       "              (wi): Linear(in_features=768, out_features=3072, bias=False)\n",
       "              (wo): Linear(in_features=3072, out_features=768, bias=False)\n",
       "              (dropout): Dropout(p=0.1, inplace=False)\n",
       "              (act): ReLU()\n",
       "            )\n",
       "            (layer_norm): T5LayerNorm()\n",
       "            (dropout): Dropout(p=0.1, inplace=False)\n",
       "          )\n",
       "        )\n",
       "      )\n",
       "    )\n",
       "    (final_layer_norm): T5LayerNorm()\n",
       "    (dropout): Dropout(p=0.1, inplace=False)\n",
       "  )\n",
       ")"
      ]
     },
     "execution_count": 36,
     "metadata": {},
     "output_type": "execute_result"
    }
   ],
   "source": [
    "tokenizer = AutoTokenizer.from_pretrained('../components/t5Base')\n",
    "text_encoder = T5EncoderModel.from_pretrained('../components/t5Base')\n",
    "\n",
    "text_encoder.to(torch.device('cuda'))"
   ]
  },
  {
   "cell_type": "code",
   "execution_count": 37,
   "metadata": {},
   "outputs": [],
   "source": [
    "def encode_text(text):\n",
    "    tokens = tokenizer(text, padding=True, max_length= 128, truncation=True, return_tensors=\"pt\").to( torch.device('cuda'))\n",
    "    with torch.no_grad():\n",
    "        text_embeddings = text_encoder(tokens.input_ids)[0]\n",
    "    return text_embeddings\n"
   ]
  },
  {
   "cell_type": "code",
   "execution_count": 38,
   "metadata": {},
   "outputs": [],
   "source": [
    "from utils import ControlTransformer, MapEncoder"
   ]
  },
  {
   "cell_type": "code",
   "execution_count": 39,
   "metadata": {},
   "outputs": [
    {
     "data": {
      "text/plain": [
       "ControlTransformer(\n",
       "  (map_encoder): MapEncoder(\n",
       "    (conv): Sequential(\n",
       "      (0): Conv2d(1, 64, kernel_size=(7, 7), stride=(4, 4), padding=(3, 3))\n",
       "      (1): ReLU(inplace=True)\n",
       "      (2): Conv2d(64, 128, kernel_size=(3, 3), stride=(2, 2), padding=(1, 1))\n",
       "      (3): ReLU(inplace=True)\n",
       "      (4): Conv2d(128, 768, kernel_size=(3, 3), stride=(2, 2), padding=(1, 1))\n",
       "      (5): ReLU(inplace=True)\n",
       "    )\n",
       "  )\n",
       "  (layers): ModuleList(\n",
       "    (0-3): 4 x TransformerLayer(\n",
       "      (attn): MultiheadAttention(\n",
       "        (out_proj): NonDynamicallyQuantizableLinear(in_features=768, out_features=768, bias=True)\n",
       "      )\n",
       "      (norm1): LayerNorm((768,), eps=1e-05, elementwise_affine=True)\n",
       "      (ffn): Sequential(\n",
       "        (0): Linear(in_features=768, out_features=2048, bias=True)\n",
       "        (1): ReLU(inplace=True)\n",
       "        (2): Linear(in_features=2048, out_features=768, bias=True)\n",
       "      )\n",
       "      (norm2): LayerNorm((768,), eps=1e-05, elementwise_affine=True)\n",
       "      (dropout): Dropout(p=0.1, inplace=False)\n",
       "    )\n",
       "  )\n",
       ")"
      ]
     },
     "execution_count": 39,
     "metadata": {},
     "output_type": "execute_result"
    }
   ],
   "source": [
    "con_tran = ControlTransformer()\n",
    "con_tran.to(torch.device('cuda'))"
   ]
  },
  {
   "cell_type": "markdown",
   "metadata": {},
   "source": [
    "## Test a single sample\n"
   ]
  },
  {
   "cell_type": "code",
   "execution_count": 40,
   "metadata": {},
   "outputs": [],
   "source": [
    "text_embeddings = encode_text('A bedroom with some windows',\n",
    "                              )\n",
    "control_maps = sample[-1]"
   ]
  },
  {
   "cell_type": "code",
   "execution_count": 41,
   "metadata": {},
   "outputs": [
    {
     "data": {
      "text/plain": [
       "(torch.Size([1, 6, 768]), torch.Size([2, 64, 64]))"
      ]
     },
     "execution_count": 41,
     "metadata": {},
     "output_type": "execute_result"
    }
   ],
   "source": [
    "text_embeddings.shape, control_maps.shape"
   ]
  },
  {
   "cell_type": "code",
   "execution_count": 42,
   "metadata": {},
   "outputs": [],
   "source": [
    "control_embeddings = con_tran(text_embeddings, control_maps.unsqueeze(0))"
   ]
  },
  {
   "cell_type": "code",
   "execution_count": 43,
   "metadata": {},
   "outputs": [
    {
     "data": {
      "text/plain": [
       "torch.Size([1, 2, 768])"
      ]
     },
     "execution_count": 43,
     "metadata": {},
     "output_type": "execute_result"
    }
   ],
   "source": [
    "control_embeddings.shape"
   ]
  },
  {
   "cell_type": "markdown",
   "metadata": {},
   "source": [
    "## Test a batch of 2"
   ]
  },
  {
   "cell_type": "code",
   "execution_count": 48,
   "metadata": {},
   "outputs": [],
   "source": [
    "batch_2 = next(iter(train_dataloader))\n",
    "imgs = batch_2[0].shape\n",
    "prompts = batch_2[1]\n",
    "maps = batch_2[-1]"
   ]
  },
  {
   "cell_type": "code",
   "execution_count": 52,
   "metadata": {},
   "outputs": [],
   "source": [
    "prompts = ['A bedroom with some windows', 'A bedroom with a bed and a window'] #the lshun dataset has no prompts... we'll make some for this use case"
   ]
  },
  {
   "cell_type": "code",
   "execution_count": 53,
   "metadata": {},
   "outputs": [
    {
     "name": "stdout",
     "output_type": "stream",
     "text": [
      "torch.Size([2, 11, 768])\n"
     ]
    }
   ],
   "source": [
    "text_embeddings = encode_text(prompts)\n",
    "print(text_embeddings.shape)"
   ]
  },
  {
   "cell_type": "code",
   "execution_count": 54,
   "metadata": {},
   "outputs": [],
   "source": [
    "control_embeddings = con_tran(text_embeddings, maps)"
   ]
  },
  {
   "cell_type": "code",
   "execution_count": 55,
   "metadata": {},
   "outputs": [
    {
     "data": {
      "text/plain": [
       "torch.Size([2, 2, 768])"
      ]
     },
     "execution_count": 55,
     "metadata": {},
     "output_type": "execute_result"
    }
   ],
   "source": [
    "control_embeddings.shape"
   ]
  },
  {
   "cell_type": "markdown",
   "metadata": {},
   "source": [
    "## Test a batch of 4"
   ]
  },
  {
   "cell_type": "code",
   "execution_count": 57,
   "metadata": {},
   "outputs": [],
   "source": [
    "batch_4 = next(iter(val_dataloader))\n",
    "\n",
    "imgs = batch_4[0].shape\n",
    "prompts = batch_4[1]\n",
    "maps = batch_4[-1]"
   ]
  },
  {
   "cell_type": "code",
   "execution_count": 58,
   "metadata": {},
   "outputs": [],
   "source": [
    "prompts = ['A bedroom with some windows',\n",
    "           'A bedroom with a bed and a window',\n",
    "           \"a bedroom with a charming style\",\n",
    "           \"a bedroom with a chair\"] \n",
    "#the lshun dataset has no prompts... we'll make some for this use case\n"
   ]
  },
  {
   "cell_type": "code",
   "execution_count": 59,
   "metadata": {},
   "outputs": [
    {
     "name": "stdout",
     "output_type": "stream",
     "text": [
      "torch.Size([4, 11, 768])\n"
     ]
    }
   ],
   "source": [
    "text_embeddings = encode_text(prompts)\n",
    "print(text_embeddings.shape)"
   ]
  },
  {
   "cell_type": "code",
   "execution_count": 60,
   "metadata": {},
   "outputs": [
    {
     "data": {
      "text/plain": [
       "torch.Size([4, 2, 768])"
      ]
     },
     "execution_count": 60,
     "metadata": {},
     "output_type": "execute_result"
    }
   ],
   "source": [
    "control_embeddings = con_tran(text_embeddings, maps)\n",
    "control_embeddings.shape\n"
   ]
  },
  {
   "cell_type": "code",
   "execution_count": null,
   "metadata": {},
   "outputs": [],
   "source": []
  }
 ],
 "metadata": {
  "kernelspec": {
   "display_name": ".venv",
   "language": "python",
   "name": "python3"
  },
  "language_info": {
   "codemirror_mode": {
    "name": "ipython",
    "version": 3
   },
   "file_extension": ".py",
   "mimetype": "text/x-python",
   "name": "python",
   "nbconvert_exporter": "python",
   "pygments_lexer": "ipython3",
   "version": "3.12.4"
  }
 },
 "nbformat": 4,
 "nbformat_minor": 4
}
