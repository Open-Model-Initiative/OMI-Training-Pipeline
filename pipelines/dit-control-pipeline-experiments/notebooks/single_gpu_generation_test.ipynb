{
 "cells": [
  {
   "cell_type": "code",
   "execution_count": 1,
   "metadata": {},
   "outputs": [
    {
     "name": "stderr",
     "output_type": "stream",
     "text": [
      "c:\\Users\\wolfg\\OneDrive\\Documents\\Projects\\OMI-Training-Pipeline\\.venv\\Lib\\site-packages\\tqdm\\auto.py:21: TqdmWarning: IProgress not found. Please update jupyter and ipywidgets. See https://ipywidgets.readthedocs.io/en/stable/user_install.html\n",
      "  from .autonotebook import tqdm as notebook_tqdm\n"
     ]
    }
   ],
   "source": [
    "import json\n",
    "import torch\n",
    "import numpy as np\n",
    "from datasets import load_dataset\n",
    "from torchvision import transforms\n",
    "from torch.utils.data import DataLoader\n",
    "from torchvision.transforms.functional import InterpolationMode\n",
    "\n",
    "import sys\n",
    "from pathlib import Path\n",
    "\n",
    "notebook_path = Path().resolve()\n",
    "project_root = notebook_path.parent\n",
    "sys.path.append(str(project_root))\n",
    "\n",
    "from utils import DiffusionModelPipeline, ImagePromptDataset"
   ]
  },
  {
   "cell_type": "markdown",
   "metadata": {},
   "source": [
    "## Initialize Model\n",
    "\n",
    "Observations\n",
    "- inC - needs to be .vae.config.latent_channels\n"
   ]
  },
  {
   "cell_type": "code",
   "execution_count": 2,
   "metadata": {},
   "outputs": [],
   "source": [
    "dit_params = {\n",
    "    'channels': 384,\n",
    "    'nBlocks': 8,\n",
    "    'nHeads': 16,\n",
    "    'conditionC': 384,\n",
    "    'patchSize': 1,\n",
    "    'text_embed_dim': 256,\n",
    "}"
   ]
  },
  {
   "cell_type": "code",
   "execution_count": 3,
   "metadata": {},
   "outputs": [],
   "source": [
    "device = torch.device(\"cuda\" if torch.cuda.is_available() else \"cpu\")\n",
    "model = DiffusionModelPipeline(dit_params = dit_params,\n",
    "                       emaStrength= 0.999,\n",
    "                       device=device)"
   ]
  },
  {
   "cell_type": "code",
   "execution_count": 4,
   "metadata": {},
   "outputs": [],
   "source": [
    "##Hacky work around - will fix later\n",
    "model.tokenizer.name_or_path = 't5-base'\n",
    "model.text_encoder.config.name_or_path = 't5-base'\n",
    "model.vae.config._name_or_path = 'flux_schnell_vae'"
   ]
  },
  {
   "cell_type": "code",
   "execution_count": 5,
   "metadata": {},
   "outputs": [
    {
     "name": "stdout",
     "output_type": "stream",
     "text": [
      "total trainable parameters: 75386432, in mil 75.386432 in bil 0.075386432\n"
     ]
    }
   ],
   "source": [
    "print(f\"total trainable parameters: {model.total_parameters}, in mil {model.total_parameters/1e6} in bil {model.total_parameters/1e9}\") "
   ]
  },
  {
   "cell_type": "code",
   "execution_count": 6,
   "metadata": {},
   "outputs": [
    {
     "data": {
      "text/plain": [
       "DiffusionModelPipeline ({\n",
       "  \"_class_name\": \"DiffusionModelPipeline\",\n",
       "  \"_diffusers_version\": \"0.30.3\",\n",
       "  \"_transformers_version\": \"4.45.1\",\n",
       "  \"_pytorch_version\": \"2.4.1+cu124\",\n",
       "  \"device\": \"cuda\",\n",
       "  \"text_encoder\": {\n",
       "    \"architecture\": \"T5EncoderModel\",\n",
       "    \"name_or_path\": \"t5-base\"\n",
       "  },\n",
       "  \"tokenizer\": {\n",
       "    \"name_or_path\": \"t5-base\",\n",
       "    \"vocab_size\": 32100,\n",
       "    \"max_length\": \"1.000000e+30\"\n",
       "  },\n",
       "  \"diffusion_model\": {\n",
       "    \"Rectified Flow\": \"RectifiedFlow\"\n",
       "  },\n",
       "  \"control_transformer\": {\n",
       "    \"ControlTransformer\": \"ControlTransformer\"\n",
       "  },\n",
       "  \"vae\": {\n",
       "    \"class_name\": \"AutoencoderKL\",\n",
       "    \"name_or_path\": \"flux_schnell_vae\",\n",
       "    \"diffusers version\": \"0.30.0.dev0\"\n",
       "  }\n",
       "})"
      ]
     },
     "execution_count": 6,
     "metadata": {},
     "output_type": "execute_result"
    }
   ],
   "source": [
    "model"
   ]
  },
  {
   "cell_type": "markdown",
   "metadata": {},
   "source": [
    "## Test Gen"
   ]
  },
  {
   "cell_type": "code",
   "execution_count": 7,
   "metadata": {},
   "outputs": [
    {
     "name": "stderr",
     "output_type": "stream",
     "text": [
      "  0%|          | 0/50 [00:00<?, ?it/s]C:\\Users\\wolfg\\OneDrive\\Documents\\Projects\\OMI-Training-Pipeline\\pipelines\\dit-control-pipeline-experiments\\utils\\dit.py:105: UserWarning: 1Torch was not compiled with flash attention. (Triggered internally at C:\\actions-runner\\_work\\pytorch\\pytorch\\builder\\windows\\pytorch\\aten\\src\\ATen\\native\\transformers\\cuda\\sdp_utils.cpp:555.)\n",
      "  attnOutput = torch.nn.functional.scaled_dot_product_attention(q, k, v)\n",
      "100%|██████████| 50/50 [00:00<00:00, 63.45it/s]\n"
     ]
    }
   ],
   "source": [
    "image = model('', num_inference_steps=50)"
   ]
  },
  {
   "cell_type": "code",
   "execution_count": 8,
   "metadata": {},
   "outputs": [
    {
     "data": {
      "image/jpeg": "[encoded data removed]",
      "image/png": "[encoded data removed]",
      "text/plain": [
       "<PIL.Image.Image image mode=RGB size=64x64>"
      ]
     },
     "execution_count": 8,
     "metadata": {},
     "output_type": "execute_result"
    }
   ],
   "source": [
    "image[0]"
   ]
  },
  {
   "cell_type": "code",
   "execution_count": 9,
   "metadata": {},
   "outputs": [
    {
     "name": "stdout",
     "output_type": "stream",
     "text": [
      "(64, 64, 3)\n"
     ]
    }
   ],
   "source": [
    "np_img = np.array(image[0])\n",
    "print(np_img.shape)\n",
    "\n",
    "#image shape should be what we expect to output"
   ]
  },
  {
   "cell_type": "markdown",
   "metadata": {},
   "source": [
    "## Test with control map"
   ]
  },
  {
   "cell_type": "code",
   "execution_count": 10,
   "metadata": {},
   "outputs": [],
   "source": [
    "# dataset = load_dataset(\"openmodelinitiative/initial-test-dataset\")\n",
    "# dataset = load_dataset(\"laion/laion2B-en\")\n",
    "# data_id = \"idning/ffhq64-caption\"\n",
    "# data_id = \"idning/ffhq128-caption\"\n",
    "data_id= \"pcuenq/lsun-bedrooms\"\n",
    "\n",
    "ds = load_dataset(data_id)\n",
    "\n",
    "#to run on runpod I had to comment out lines 188/189 in usr/lib/local/pyhton/datasets/features/Image.py \n",
    "\n",
    "# ds = load_dataset(\"pcuenq/lsun-bedrooms\")\n",
    "split_ds = ds['train'].train_test_split(test_size=0.1, seed=42)\n"
   ]
  },
  {
   "cell_type": "code",
   "execution_count": 11,
   "metadata": {},
   "outputs": [],
   "source": [
    "transform = transforms.Compose([\n",
    "    transforms.Resize((64, 64), interpolation=InterpolationMode.LANCZOS),\n",
    "    transforms.ToTensor(),  # Converts to tensor and scales pixel values to [0, 1]\n",
    "])"
   ]
  },
  {
   "cell_type": "code",
   "execution_count": 12,
   "metadata": {},
   "outputs": [
    {
     "name": "stderr",
     "output_type": "stream",
     "text": [
      "Using cache found in C:\\Users\\wolfg/.cache\\torch\\hub\\intel-isl_MiDaS_master\n",
      "c:\\Users\\wolfg\\OneDrive\\Documents\\Projects\\OMI-Training-Pipeline\\.venv\\Lib\\site-packages\\timm\\models\\layers\\__init__.py:48: FutureWarning: Importing from timm.models.layers is deprecated, please import via timm.layers\n",
      "  warnings.warn(f\"Importing from {__name__} is deprecated, please import via timm.layers\", FutureWarning)\n",
      "Using cache found in C:\\Users\\wolfg/.cache\\torch\\hub\\intel-isl_MiDaS_master\n",
      "Using cache found in C:\\Users\\wolfg/.cache\\torch\\hub\\intel-isl_MiDaS_master\n",
      "Using cache found in C:\\Users\\wolfg/.cache\\torch\\hub\\intel-isl_MiDaS_master\n"
     ]
    }
   ],
   "source": [
    "# Create the custom dataset\n",
    "train_dataset = ImagePromptDataset(split_ds[\"train\"], transform=transform, device = torch.device('cuda'), maps = ['depth','edge'])\n",
    "val_dataset = ImagePromptDataset(split_ds[\"test\"], transform=transform , device = torch.device('cuda'), maps = ['depth', 'edge'])   "
   ]
  },
  {
   "cell_type": "code",
   "execution_count": 13,
   "metadata": {},
   "outputs": [],
   "source": [
    "sample = train_dataset[0]"
   ]
  },
  {
   "cell_type": "code",
   "execution_count": 18,
   "metadata": {},
   "outputs": [
    {
     "data": {
      "image/jpeg": "[encoded data removed]",
      "image/png": "[encoded data removed]",
      "text/plain": [
       "<PIL.Image.Image image mode=RGB size=64x64>"
      ]
     },
     "execution_count": 18,
     "metadata": {},
     "output_type": "execute_result"
    }
   ],
   "source": [
    "transforms.ToPILImage()(sample[0])"
   ]
  },
  {
   "cell_type": "code",
   "execution_count": 19,
   "metadata": {},
   "outputs": [
    {
     "name": "stderr",
     "output_type": "stream",
     "text": [
      "100%|██████████| 50/50 [00:00<00:00, 71.31it/s]\n"
     ]
    },
    {
     "data": {
      "image/jpeg": "[encoded data removed]",
      "image/png": "[encoded data removed]",
      "text/plain": [
       "<PIL.Image.Image image mode=RGB size=64x64>"
      ]
     },
     "execution_count": 19,
     "metadata": {},
     "output_type": "execute_result"
    }
   ],
   "source": [
    "image_no_map = model('', num_inference_steps=50)\n",
    "image_no_map[0]"
   ]
  },
  {
   "cell_type": "code",
   "execution_count": 20,
   "metadata": {},
   "outputs": [
    {
     "name": "stderr",
     "output_type": "stream",
     "text": [
      "100%|██████████| 50/50 [00:00<00:00, 73.64it/s]\n"
     ]
    },
    {
     "data": {
      "image/jpeg": "[encoded data removed]",
      "image/png": "[encoded data removed]",
      "text/plain": [
       "<PIL.Image.Image image mode=RGB size=64x64>"
      ]
     },
     "execution_count": 20,
     "metadata": {},
     "output_type": "execute_result"
    }
   ],
   "source": [
    "image_two_map = model([''], num_inference_steps=50, control_maps=sample[-1].unsqueeze(0))\n",
    "image_two_map[0]"
   ]
  },
  {
   "cell_type": "markdown",
   "metadata": {},
   "source": [
    "# Multi-Model Generation Test"
   ]
  },
  {
   "cell_type": "code",
   "execution_count": null,
   "metadata": {},
   "outputs": [],
   "source": [
    "##Load models for comparision, based off of code example below:\n",
    "\n",
    "##No models yet\n",
    "trained_1k_model = DiffusionModelPipeline.from_pretrained('')\n",
    "\n",
    "trained_best_model = DiffusionModelPipeline.from_pretrained('')"
   ]
  },
  {
   "cell_type": "code",
   "execution_count": null,
   "metadata": {},
   "outputs": [],
   "source": [
    "prompts = []\n",
    "\n",
    "steps = 10\n",
    "shape = (len(prompts), untrained_model.latent_channels, 16, 16)\n",
    "xT = torch.rand(shape).to(device)"
   ]
  },
  {
   "cell_type": "code",
   "execution_count": null,
   "metadata": {},
   "outputs": [],
   "source": [
    "mods = ['untrained_model', 'trained_1k_model', \"trained_best_model\"]\n",
    "for ii, mod in enumerate([untrained_model, trained_1k_model, trained_best_model]):\n",
    "    mod.to(device)\n",
    "    mod.vae.eval()\n",
    "    mod.text_encoder.eval()\n",
    "    mod.cat.eval()\n",
    "    mod.diffusion_model.model.eval()\n",
    "    \n",
    "    with torch.no_grad():\n",
    "        \n",
    "        text_embeddings = mod.encode_text(prompts)    \n",
    "        \n",
    "        ##Next we call the diffusion model -> hgere we do have XT random\n",
    "        with torch.no_grad():\n",
    "            for i in tqdm(range(0, steps), desc=\"Diffusion\"):\n",
    "                if i == 0:\n",
    "                    latents = xT\n",
    "                    \n",
    "                latents = mod.diffusion_model.vSample(i, shape, latents, steps, text_embeddings)\n",
    "        images = mod.decode_latents(latents)\n",
    "        \n",
    "    images = (images / 2 + 0.5).clamp(0, 1)\n",
    "    images = images.cpu().permute(0, 2, 3, 1).numpy()\n",
    "    images = [Image.fromarray((image * 255).astype(np.uint8)) for image in images]\n",
    "    \n",
    "    fig, ax = plt.subplots(1, len(prompts), figsize=(20, 5))\n",
    "    fig.suptitle(f\"Model: {mods[ii]}\")\n",
    "    for i, img in enumerate(images):\n",
    "        ax[i].imshow(img)\n",
    "        ax[i].axis('off')\n",
    "        ax[i].set_title(prompts[i])\n",
    "    plt.show()\n",
    "    "
   ]
  }
 ],
 "metadata": {
  "kernelspec": {
   "display_name": ".venv",
   "language": "python",
   "name": "python3"
  },
  "language_info": {
   "codemirror_mode": {
    "name": "ipython",
    "version": 3
   },
   "file_extension": ".py",
   "mimetype": "text/x-python",
   "name": "python",
   "nbconvert_exporter": "python",
   "pygments_lexer": "ipython3",
   "version": "3.12.4"
  }
 },
 "nbformat": 4,
 "nbformat_minor": 4
}
