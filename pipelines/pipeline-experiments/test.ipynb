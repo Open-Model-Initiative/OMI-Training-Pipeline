{
 "cells": [
  {
   "cell_type": "code",
   "execution_count": 1,
   "metadata": {},
   "outputs": [
    {
     "name": "stderr",
     "output_type": "stream",
     "text": [
      "c:\\Users\\wolfg\\OneDrive\\Documents\\Projects\\OMI\\my-omi-code\\.venv\\Lib\\site-packages\\tqdm\\auto.py:21: TqdmWarning: IProgress not found. Please update jupyter and ipywidgets. See https://ipywidgets.readthedocs.io/en/stable/user_install.html\n",
      "  from .autonotebook import tqdm as notebook_tqdm\n"
     ]
    }
   ],
   "source": [
    "import torch\n",
    "import matplotlib.pyplot as plt\n",
    "from datasets import load_dataset\n",
    "from torchvision import transforms\n",
    "from torch.utils.data import DataLoader\n",
    "from torchvision.transforms.functional import InterpolationMode\n",
    "from utils import DiffusionModelPipeline, ImagePromptDataset"
   ]
  },
  {
   "cell_type": "code",
   "execution_count": 2,
   "metadata": {},
   "outputs": [],
   "source": [
    "dit_params = {\n",
    "    'channels': 384,\n",
    "    'nBlocks': 8,\n",
    "    'inC': 16, \n",
    "    'nHeads': 8,\n",
    "    'patchSize': 2\n",
    "}\n",
    "\n",
    "cat_params = {\n",
    "    'input_dim': 768,  # T5-base hidden size\n",
    "    'hidden_dim': 512,\n",
    "    'output_dim': 256,\n",
    "    'num_layers': 3,\n",
    "    'num_heads': 8\n",
    "}"
   ]
  },
  {
   "cell_type": "code",
   "execution_count": 3,
   "metadata": {},
   "outputs": [],
   "source": [
    "device = torch.device(\"cuda\" if torch.cuda.is_available() else \"cpu\")\n",
    "model = DiffusionModelPipeline(dit_params = dit_params,\n",
    "                       cat_params = cat_params,\n",
    "                       device=device)"
   ]
  },
  {
   "cell_type": "code",
   "execution_count": 4,
   "metadata": {},
   "outputs": [],
   "source": [
    "##Hacky work around - will fix later\n",
    "model.tokenizer.name_or_path = 't5-base'\n",
    "model.text_encoder.config.name_or_path = 't5-base'\n",
    "model.vae.config._name_or_path = 'flux_schnell_vae'"
   ]
  },
  {
   "cell_type": "markdown",
   "metadata": {},
   "source": [
    "## Test Gen"
   ]
  },
  {
   "cell_type": "code",
   "execution_count": 5,
   "metadata": {},
   "outputs": [],
   "source": [
    "# image = model('a beautiful sunset over the ocean', num_inference_steps=1000)\n"
   ]
  },
  {
   "cell_type": "code",
   "execution_count": 6,
   "metadata": {},
   "outputs": [],
   "source": [
    "# image[0]"
   ]
  },
  {
   "cell_type": "markdown",
   "metadata": {},
   "source": [
    "## Test Training"
   ]
  },
  {
   "cell_type": "code",
   "execution_count": 7,
   "metadata": {},
   "outputs": [],
   "source": [
    "# dataset = load_dataset(\"openmodelinitiative/initial-test-dataset\")\n",
    "# dataset = load_dataset(\"laion/laion2B-en\")\n",
    "ds = load_dataset(\"svjack/pokemon-blip-captions-en-zh\")\n",
    "split_ds = ds['train'].train_test_split(test_size=0.1, seed=42)\n"
   ]
  },
  {
   "cell_type": "code",
   "execution_count": 8,
   "metadata": {},
   "outputs": [
    {
     "data": {
      "text/plain": [
       "DatasetDict({\n",
       "    train: Dataset({\n",
       "        features: ['image', 'en_text', 'zh_text'],\n",
       "        num_rows: 749\n",
       "    })\n",
       "    test: Dataset({\n",
       "        features: ['image', 'en_text', 'zh_text'],\n",
       "        num_rows: 84\n",
       "    })\n",
       "})"
      ]
     },
     "execution_count": 8,
     "metadata": {},
     "output_type": "execute_result"
    }
   ],
   "source": [
    "split_ds"
   ]
  },
  {
   "cell_type": "code",
   "execution_count": 10,
   "metadata": {},
   "outputs": [],
   "source": [
    "transform = transforms.Compose([\n",
    "    transforms.Resize((128, 128), interpolation=InterpolationMode.LANCZOS),\n",
    "    transforms.ToTensor(),  # Converts to tensor and scales pixel values to [0, 1]\n",
    "])"
   ]
  },
  {
   "cell_type": "code",
   "execution_count": 11,
   "metadata": {},
   "outputs": [],
   "source": [
    "# Create the custom dataset\n",
    "train_dataset = ImagePromptDataset(split_ds[\"train\"], transform=transform)\n",
    "val_dataset = ImagePromptDataset(split_ds[\"test\"], transform=transform)\n"
   ]
  },
  {
   "cell_type": "code",
   "execution_count": 12,
   "metadata": {},
   "outputs": [],
   "source": [
    "# Training DataLoader\n",
    "train_dataloader = DataLoader(\n",
    "    train_dataset,\n",
    "    batch_size=4,  # Adjust based on your GPU memory\n",
    "    shuffle=True,\n",
    "    num_workers=0  # Set to 0 if you encounter issues on Windows\n",
    ")\n",
    "\n",
    "# Validation DataLoader\n",
    "val_dataloader = DataLoader(\n",
    "    val_dataset,\n",
    "    batch_size=4,\n",
    "    shuffle=False,\n",
    "    num_workers=0\n",
    ")"
   ]
  },
  {
   "cell_type": "code",
   "execution_count": 12,
   "metadata": {},
   "outputs": [
    {
     "name": "stdout",
     "output_type": "stream",
     "text": [
      "changing optimizer to AdamW and added rectified flow and CaT\n"
     ]
    },
    {
     "name": "stderr",
     "output_type": "stream",
     "text": [
      "Epoch 1:   0%|          | 0/188 [00:00<?, ?it/s]c:\\Users\\wolfg\\OneDrive\\Documents\\Projects\\OMI\\my-omi-code\\.venv\\Lib\\site-packages\\diffusers\\models\\attention_processor.py:2358: UserWarning: 1Torch was not compiled with flash attention. (Triggered internally at C:\\actions-runner\\_work\\pytorch\\pytorch\\builder\\windows\\pytorch\\aten\\src\\ATen\\native\\transformers\\cuda\\sdp_utils.cpp:555.)\n",
      "  hidden_states = F.scaled_dot_product_attention(\n",
      "                                                                                      \r"
     ]
    },
    {
     "name": "stdout",
     "output_type": "stream",
     "text": [
      "Model saved to pokemon_training_test\\best_model\n"
     ]
    },
    {
     "name": "stderr",
     "output_type": "stream",
     "text": [
      "                                                                                      \r"
     ]
    },
    {
     "name": "stdout",
     "output_type": "stream",
     "text": [
      "Model saved to pokemon_training_test\\best_model\n"
     ]
    },
    {
     "name": "stderr",
     "output_type": "stream",
     "text": [
      "                                                                                      \r"
     ]
    },
    {
     "name": "stdout",
     "output_type": "stream",
     "text": [
      "Model saved to pokemon_training_test\\best_model\n"
     ]
    },
    {
     "name": "stderr",
     "output_type": "stream",
     "text": [
      "                                                                                      \r"
     ]
    },
    {
     "name": "stdout",
     "output_type": "stream",
     "text": [
      "Model saved to pokemon_training_test\\best_model\n"
     ]
    },
    {
     "name": "stderr",
     "output_type": "stream",
     "text": [
      "                                                                                      \r"
     ]
    }
   ],
   "source": [
    "model.train(train_dataloader,\n",
    "            val_dataloader,\n",
    "            epochs = 10000,\n",
    "            log_interval= 100,\n",
    "            save_interval= 100,\n",
    "            output_dir= 'pokemon_training_test')"
   ]
  },
  {
   "cell_type": "code",
   "execution_count": null,
   "metadata": {},
   "outputs": [],
   "source": [
    "# model.train(train_dataloader,\n",
    "#             val_dataloader,\n",
    "#             epochs = 2,\n",
    "#             log_interval= 100,\n",
    "#             save_interval= 2,\n",
    "#             output_dir= 'pokemon_training_test')"
   ]
  },
  {
   "cell_type": "code",
   "execution_count": null,
   "metadata": {},
   "outputs": [],
   "source": [
    "img1 = model.generate('A green pokemon with a leaf on its head',\n",
    "               num_inference_steps=1000)\n",
    "img1[0]"
   ]
  },
  {
   "cell_type": "code",
   "execution_count": null,
   "metadata": {},
   "outputs": [],
   "source": [
    "img2 = model.generate('A green pokemon with a leaf on its head',\n",
    "               num_inference_steps=50)\n",
    "img2[0]"
   ]
  },
  {
   "cell_type": "code",
   "execution_count": null,
   "metadata": {},
   "outputs": [],
   "source": []
  }
 ],
 "metadata": {
  "kernelspec": {
   "display_name": ".venv",
   "language": "python",
   "name": "python3"
  },
  "language_info": {
   "codemirror_mode": {
    "name": "ipython",
    "version": 3
   },
   "file_extension": ".py",
   "mimetype": "text/x-python",
   "name": "python",
   "nbconvert_exporter": "python",
   "pygments_lexer": "ipython3",
   "version": "3.12.4"
  }
 },
 "nbformat": 4,
 "nbformat_minor": 2
}
